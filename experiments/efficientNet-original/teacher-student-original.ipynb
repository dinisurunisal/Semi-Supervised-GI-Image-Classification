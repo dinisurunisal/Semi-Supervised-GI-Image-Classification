{
 "cells": [
  {
   "cell_type": "code",
   "execution_count": 25,
   "metadata": {
    "collapsed": true,
    "pycharm": {
     "name": "#%%\n"
    }
   },
   "outputs": [
    {
     "ename": "ImportError",
     "evalue": "cannot import name 'class_distribution' from 'utils' (F:\\FYP\\Semi-Supervised-GI-Image-Classification\\experiments\\efficientNet-original\\utils\\__init__.py)",
     "output_type": "error",
     "traceback": [
      "\u001B[1;31m---------------------------------------------------------------------------\u001B[0m",
      "\u001B[1;31mImportError\u001B[0m                               Traceback (most recent call last)",
      "\u001B[1;32m~\\AppData\\Local\\Temp/ipykernel_22112/3331604597.py\u001B[0m in \u001B[0;36m<module>\u001B[1;34m\u001B[0m\n\u001B[0;32m     13\u001B[0m \u001B[1;31m# Some stuff to make utils-function work\u001B[0m\u001B[1;33m\u001B[0m\u001B[1;33m\u001B[0m\u001B[1;33m\u001B[0m\u001B[0m\n\u001B[0;32m     14\u001B[0m \u001B[0msys\u001B[0m\u001B[1;33m.\u001B[0m\u001B[0mpath\u001B[0m\u001B[1;33m.\u001B[0m\u001B[0mappend\u001B[0m\u001B[1;33m(\u001B[0m\u001B[1;34m'../utils'\u001B[0m\u001B[1;33m)\u001B[0m\u001B[1;33m\u001B[0m\u001B[1;33m\u001B[0m\u001B[0m\n\u001B[1;32m---> 15\u001B[1;33m \u001B[1;32mfrom\u001B[0m \u001B[0mutils\u001B[0m\u001B[1;33m.\u001B[0m\u001B[0mpipeline\u001B[0m \u001B[1;32mimport\u001B[0m \u001B[1;33m*\u001B[0m\u001B[1;33m\u001B[0m\u001B[1;33m\u001B[0m\u001B[0m\n\u001B[0m\u001B[0;32m     16\u001B[0m \u001B[1;32mfrom\u001B[0m \u001B[0mutils\u001B[0m\u001B[1;33m.\u001B[0m\u001B[0mcreate_model\u001B[0m \u001B[1;32mimport\u001B[0m \u001B[1;33m*\u001B[0m\u001B[1;33m\u001B[0m\u001B[1;33m\u001B[0m\u001B[0m\n\u001B[0;32m     17\u001B[0m \u001B[1;32mfrom\u001B[0m \u001B[0mutils\u001B[0m\u001B[1;33m.\u001B[0m\u001B[0mutils\u001B[0m \u001B[1;32mimport\u001B[0m \u001B[1;33m*\u001B[0m\u001B[1;33m\u001B[0m\u001B[1;33m\u001B[0m\u001B[0m\n",
      "\u001B[1;32mF:\\FYP\\Semi-Supervised-GI-Image-Classification\\experiments\\efficientNet-original\\utils\\pipeline.py\u001B[0m in \u001B[0;36m<module>\u001B[1;34m\u001B[0m\n\u001B[0;32m     12\u001B[0m \u001B[1;33m\u001B[0m\u001B[0m\n\u001B[0;32m     13\u001B[0m \u001B[1;31m# Some stuff to make utils-function work\u001B[0m\u001B[1;33m\u001B[0m\u001B[1;33m\u001B[0m\u001B[1;33m\u001B[0m\u001B[0m\n\u001B[1;32m---> 14\u001B[1;33m \u001B[1;32mfrom\u001B[0m \u001B[0mutils\u001B[0m \u001B[1;32mimport\u001B[0m \u001B[0mclass_distribution\u001B[0m\u001B[1;33m,\u001B[0m \u001B[0mget_dataset_info\u001B[0m\u001B[1;33m,\u001B[0m \u001B[0mprint_split_info\u001B[0m\u001B[1;33m\u001B[0m\u001B[1;33m\u001B[0m\u001B[0m\n\u001B[0m\u001B[0;32m     15\u001B[0m \u001B[1;31m# For split_and_create_dataset\u001B[0m\u001B[1;33m\u001B[0m\u001B[1;33m\u001B[0m\u001B[1;33m\u001B[0m\u001B[0m\n\u001B[0;32m     16\u001B[0m \u001B[1;32mfrom\u001B[0m \u001B[0mutils\u001B[0m \u001B[1;32mimport\u001B[0m \u001B[0mprint_bin_class_info\u001B[0m\u001B[1;33m,\u001B[0m \u001B[0mbetter_class_dist\u001B[0m\u001B[1;33m,\u001B[0m \u001B[0mshow_image\u001B[0m\u001B[1;33m\u001B[0m\u001B[1;33m\u001B[0m\u001B[0m\n",
      "\u001B[1;31mImportError\u001B[0m: cannot import name 'class_distribution' from 'utils' (F:\\FYP\\Semi-Supervised-GI-Image-Classification\\experiments\\efficientNet-original\\utils\\__init__.py)"
     ]
    }
   ],
   "source": [
    "from __future__ import absolute_import, division, print_function, unicode_literals\n",
    "\n",
    "# import tensorflow as tf\n",
    "import numpy as np\n",
    "import datetime\n",
    "import pickle\n",
    "import time\n",
    "import os\n",
    "import pathlib\n",
    "import matplotlib.pyplot as plt\n",
    "import sys\n",
    "\n",
    "# Some stuff to make utils-function work\n",
    "sys.path.append('../utils')\n",
    "from utils.pipeline import *\n",
    "from utils.create_model import *\n",
    "from utils.utils import *\n",
    "from utils.unlabeled_utils import *\n",
    "from utils.evaluate_model import *\n",
    "%load_ext autoreload\n",
    "%autoreload 2\n",
    "\n",
    "# Jupyter-specific\n",
    "%matplotlib inline\n",
    "\n",
    "project_time = datetime.datetime.now().strftime(\"%Y%m%d-%H%M%S\")"
   ]
  },
  {
   "cell_type": "markdown",
   "source": [
    "parameters"
   ],
   "metadata": {
    "collapsed": false
   }
  },
  {
   "cell_type": "code",
   "execution_count": null,
   "outputs": [],
   "source": [
    "data_dir = pathlib.Path('/home/henriklg/master-thesis/data/kvasir-capsule/labeled_new_splits/')\n",
    "unlab_dir = pathlib.Path('/home/henriklg/master-thesis/data/kvasir-capsule/unlabeled_ttv/')\n",
    "\n",
    "iteration = 0\n",
    "dir_name = str(iteration)+\"_teacher\"\n",
    "log_dir = \"./logs/{}/{}\".format(project_time, dir_name)\n",
    "\n",
    "conf = {\n",
    "    # Dataset\n",
    "    \"data_dir\": data_dir,\n",
    "    \"unlab_dir\": unlab_dir,\n",
    "    \"ds_info\": 'kvacap',\n",
    "    \"augment\": [\"crop\",\"flip\",\"brightness\",\"saturation\",\"contrast\",\"rotate\"],\n",
    "    \"aug_mult\": 0.8,\n",
    "    \"resample\": True,\n",
    "    \"class_weight\": False,\n",
    "    \"shuffle_buffer_size\": 2000,       # no shuffling: 0\n",
    "    \"seed\": 2511,\n",
    "    \"neg_class\": None,                 # select neg class for binary ds (normal class)\n",
    "    \"outcast\": None,                   # list of folders to drop - currently only supports 1 item\n",
    "    # Model\n",
    "    \"model\": 'EfficientNetB4',\n",
    "    \"weights\": \"imagenet\",             # which weights to initialize the model with\n",
    "    \"dropout\": 0.3,\n",
    "    \"num_epochs\": 15,\n",
    "    \"batch_size\": 8,\n",
    "    \"img_shape\": (128, 128, 3),\n",
    "    \"learning_rate\": 0.001,\n",
    "    \"optimizer\": 'Adam',\n",
    "    \"final_activation\": 'softmax',     # sigmoid for binary ds\n",
    "    # Callbacks\n",
    "    \"tensorboard\": False,\n",
    "    \"decay_rate\": 0,                   # 128:0.25   64:1.0   32:4.0   16:16   8:64\n",
    "    \"checkpoint\": False,\n",
    "    \"early_stopp_patience\": 0,         # disable: 0\n",
    "    # Misc\n",
    "    \"verbosity\": 1,\n",
    "    \"keep_thresh\": 0.95,\n",
    "    \"pseudo_thresh\": 20000,\n",
    "    \"class_limit\": 1000,\n",
    "    \"dir_name\": dir_name,\n",
    "    \"log_dir\": log_dir,\n",
    "    \"cache_dir\": \"./cache\",\n",
    "    }"
   ],
   "metadata": {
    "collapsed": false,
    "pycharm": {
     "name": "#%%\n"
    }
   }
  },
  {
   "cell_type": "markdown",
   "source": [
    "Create training, testing and validation dataset from utils/data_prep.py.\n",
    "Returns tf.dataset for shuffled, cached and batched data"
   ],
   "metadata": {
    "collapsed": false
   }
  },
  {
   "cell_type": "code",
   "execution_count": null,
   "outputs": [],
   "source": [
    "ds = create_dataset(conf)"
   ],
   "metadata": {
    "collapsed": false,
    "pycharm": {
     "name": "#%%\n"
    }
   }
  },
  {
   "cell_type": "code",
   "execution_count": null,
   "outputs": [],
   "source": [
    "# First iteration only\n",
    "sanity = []\n",
    "ds[\"unlab\"] = create_unlab_ds(conf)\n",
    "datasets_bin = [tf_bincount(ds[\"clean_train\"], conf[\"num_classes\"])]\n",
    "ds[\"combined_train\"] = ds[\"clean_train\"]"
   ],
   "metadata": {
    "collapsed": false,
    "pycharm": {
     "name": "#%%\n"
    }
   }
  },
  {
   "cell_type": "markdown",
   "source": [
    "## Recover from previous checkpoint\n",
    "\n",
    "# Step 1: Train a teacher model on labeled images"
   ],
   "metadata": {
    "collapsed": false
   }
  },
  {
   "cell_type": "code",
   "execution_count": null,
   "outputs": [],
   "source": [
    "model = create_model(conf)"
   ],
   "metadata": {
    "collapsed": false,
    "pycharm": {
     "name": "#%%\n"
    }
   }
  },
  {
   "cell_type": "code",
   "execution_count": null,
   "outputs": [],
   "source": [
    "callbacks = create_callbacks(conf)"
   ],
   "metadata": {
    "collapsed": false,
    "pycharm": {
     "name": "#%%\n"
    }
   }
  },
  {
   "cell_type": "code",
   "execution_count": null,
   "outputs": [],
   "source": [
    "class_weights = get_class_weights(ds[\"train\"], conf)"
   ],
   "metadata": {
    "collapsed": false,
    "pycharm": {
     "name": "#%%\n"
    }
   }
  },
  {
   "cell_type": "markdown",
   "source": [
    "## Train the teacher model"
   ],
   "metadata": {
    "collapsed": false,
    "pycharm": {
     "name": "#%% md\n"
    }
   }
  },
  {
   "cell_type": "code",
   "execution_count": null,
   "outputs": [],
   "source": [
    "start_time = time.time()\n",
    "\n",
    "history = model.fit(\n",
    "        ds[\"train\"],\n",
    "        steps_per_epoch = conf[\"steps\"][\"train\"],\n",
    "        epochs = conf[\"num_epochs\"],\n",
    "        validation_data = ds[\"val\"],\n",
    "        validation_steps = conf[\"steps\"][\"val\"],\n",
    "        validation_freq = 1,\n",
    "        class_weight = class_weights,\n",
    "        callbacks = callbacks,\n",
    "        verbose = 1\n",
    ")\n",
    "print (\"Time spent on training: {:.2f} minutes.\".format(np.round(time.time() - start_time)/60))"
   ],
   "metadata": {
    "collapsed": false,
    "pycharm": {
     "name": "#%%\n"
    }
   }
  },
  {
   "cell_type": "markdown",
   "source": [
    "## Evaluate the model"
   ],
   "metadata": {
    "collapsed": false
   }
  },
  {
   "cell_type": "code",
   "execution_count": null,
   "outputs": [],
   "source": [
    "evaluate_model(model, history, ds, conf)"
   ],
   "metadata": {
    "collapsed": false,
    "pycharm": {
     "name": "#%%\n"
    }
   }
  },
  {
   "cell_type": "markdown",
   "source": [
    "# Step 2: use the teacher to generate pseudo labels on unlabeled images"
   ],
   "metadata": {
    "collapsed": false,
    "pycharm": {
     "name": "#%% md\n"
    }
   }
  },
  {
   "cell_type": "markdown",
   "source": [
    "## Run predictions on all unlabeled images"
   ],
   "metadata": {
    "collapsed": false,
    "pycharm": {
     "name": "#%% md\n"
    }
   }
  },
  {
   "cell_type": "code",
   "execution_count": null,
   "outputs": [],
   "source": [
    "count = {\"findings\": 0, \"total\": 0}\n",
    "pseudo = {\"pred_list\": [], \"lab_list\": [], \"name_list\": []}"
   ],
   "metadata": {
    "collapsed": false,
    "pycharm": {
     "name": "#%%\n"
    }
   }
  },
  {
   "cell_type": "code",
   "execution_count": null,
   "outputs": [],
   "source": [
    "pseudo, count = generate_labels(pseudo, count, ds[\"unlab\"], model, conf)"
   ],
   "metadata": {
    "collapsed": false,
    "pycharm": {
     "name": "#%%\n"
    }
   }
  },
  {
   "cell_type": "markdown",
   "source": [
    "## Inspect the classified images"
   ],
   "metadata": {
    "collapsed": false,
    "pycharm": {
     "name": "#%% md\n"
    }
   }
  },
  {
   "cell_type": "code",
   "execution_count": null,
   "outputs": [],
   "source": [
    "# Sort in order of highest confidence to lowest\n",
    "pseudo_sorted = custom_sort(pseudo)\n",
    "\n",
    "checkout_findings(pseudo_sorted, conf, show=False)"
   ],
   "metadata": {
    "collapsed": false,
    "pycharm": {
     "name": "#%%\n"
    }
   }
  },
  {
   "cell_type": "markdown",
   "source": [
    "Resample new findings, convert to tf.tensors and concatenate with original training data, and update unlab_ds"
   ],
   "metadata": {
    "collapsed": false
   }
  },
  {
   "cell_type": "code",
   "execution_count": null,
   "outputs": [],
   "source": [
    "datasets_bin, added_samples = resample_and_combine(ds, conf, pseudo, pseudo_sorted, datasets_bin, limit=conf[\"class_limit\"])\n",
    "\n",
    "# Update unlab_ds\n",
    "ds[\"unlab\"] = reduce_dataset(ds[\"unlab\"], remove=added_samples)\n",
    "\n",
    "sanity, conf = update_sanity(sanity, len(added_samples), datasets_bin, conf)\n",
    "sanity[-1]"
   ],
   "metadata": {
    "collapsed": false,
    "pycharm": {
     "name": "#%%\n"
    }
   }
  },
  {
   "cell_type": "markdown",
   "source": [
    "# Step 3: Train a student model on the combination of labeled images and pseudo labeled images"
   ],
   "metadata": {
    "collapsed": false
   }
  },
  {
   "cell_type": "markdown",
   "source": [
    "Now we have trained a teacher model, and used that model to predict on unlabeled dataset to create more samples with psudo-labels.\n",
    "It's time for swapping the teacher with the student!"
   ],
   "metadata": {
    "collapsed": false
   }
  },
  {
   "cell_type": "code",
   "execution_count": null,
   "outputs": [],
   "source": [
    "# Make changes\n",
    "dir_name = str(iteration)+\"_student\"\n",
    "log_dir = \"./logs/{}/{}\".format(project_time, dir_name)\n",
    "\n",
    "# Dataset\n",
    "conf[\"log_dir\"] = log_dir\n",
    "conf[\"ds_sizes\"][\"train\"] = sanity[-1][\"curr_train_size\"]\n",
    "conf[\"steps\"][\"train\"] = sanity[-1][\"curr_train_size\"]//conf[\"batch_size\"]\n",
    "conf[\"aug_mult\"] = 0.8\n",
    "# Model\n",
    "conf[\"model\"] = 'EfficientNetB4'\n",
    "conf[\"dropout\"] = 0.2"
   ],
   "metadata": {
    "collapsed": false,
    "pycharm": {
     "name": "#%%\n"
    }
   }
  },
  {
   "cell_type": "code",
   "execution_count": null,
   "outputs": [],
   "source": [
    "ds[\"train\"] = prepare_for_training(\n",
    "        ds=ds[\"combined_train\"],\n",
    "        ds_name='train_'+dir_name,\n",
    "        conf=conf,\n",
    "        cache=True\n",
    "    )"
   ],
   "metadata": {
    "collapsed": false,
    "pycharm": {
     "name": "#%%\n"
    }
   }
  },
  {
   "cell_type": "code",
   "execution_count": null,
   "outputs": [],
   "source": [
    "# create model, callbacks and weights\n",
    "student_model = create_model(conf)\n",
    "callbacks = create_callbacks(conf)\n",
    "class_weights = get_class_weights(ds[\"train\"], conf)"
   ],
   "metadata": {
    "collapsed": false,
    "pycharm": {
     "name": "#%%\n"
    }
   }
  },
  {
   "cell_type": "code",
   "execution_count": null,
   "outputs": [],
   "source": [
    "start_time = time.time()\n",
    "\n",
    "history = model.fit(\n",
    "    ds[\"train\"],\n",
    "    steps_per_epoch = conf[\"steps\"][\"train\"],\n",
    "    epochs = conf[\"num_epochs\"],\n",
    "    validation_data = ds[\"val\"],\n",
    "    validation_steps = conf[\"steps\"][\"val\"],\n",
    "    validation_freq = 1,\n",
    "    class_weight = class_weights,\n",
    "    callbacks = callbacks\n",
    ")\n",
    "print (\"Time spent on training: {:.2f} minutes.\".format(np.round(time.time() - start_time)/60))"
   ],
   "metadata": {
    "collapsed": false,
    "pycharm": {
     "name": "#%%\n"
    }
   }
  },
  {
   "cell_type": "markdown",
   "source": [
    "## Evaluate the model"
   ],
   "metadata": {
    "collapsed": false
   }
  },
  {
   "cell_type": "code",
   "execution_count": null,
   "outputs": [],
   "source": [
    "evaluate_model(model, history, ds, conf)"
   ],
   "metadata": {
    "collapsed": false,
    "pycharm": {
     "name": "#%%\n"
    }
   }
  },
  {
   "cell_type": "code",
   "execution_count": null,
   "outputs": [],
   "source": [
    "count = {\"findings\": 0, \"total\": 0}\n",
    "pseudo = {\"pred_list\": [], \"lab_list\": [], \"name_list\": []}"
   ],
   "metadata": {
    "collapsed": false,
    "pycharm": {
     "name": "#%%\n"
    }
   }
  },
  {
   "cell_type": "code",
   "execution_count": null,
   "outputs": [],
   "source": [
    "pseudo, count = generate_labels(pseudo, count, ds[\"unlab\"], model, conf)"
   ],
   "metadata": {
    "collapsed": false,
    "pycharm": {
     "name": "#%%\n"
    }
   }
  },
  {
   "cell_type": "markdown",
   "source": [
    "## Inspect the classified images"
   ],
   "metadata": {
    "collapsed": false
   }
  },
  {
   "cell_type": "code",
   "execution_count": null,
   "outputs": [],
   "source": [
    "# Sort in order of highest confidence to lowest\n",
    "pseudo_sorted = custom_sort(pseudo)\n",
    "\n",
    "checkout_findings(pseudo_sorted, conf, show=False)"
   ],
   "metadata": {
    "collapsed": false,
    "pycharm": {
     "name": "#%%\n"
    }
   }
  },
  {
   "cell_type": "markdown",
   "source": [
    "## Resample new findings, convert to tf.tensors and concatenate with original training data, and update unlab_ds"
   ],
   "metadata": {
    "collapsed": false
   }
  },
  {
   "cell_type": "code",
   "execution_count": null,
   "outputs": [],
   "source": [
    "datasets_bin, added_samples = resample_and_combine(ds, conf, pseudo, pseudo_sorted, datasets_bin, limit=conf[\"class_limit\"])\n",
    "\n",
    "# Update unlab_ds\n",
    "ds[\"unlab\"] = reduce_dataset(ds[\"unlab\"], remove=added_samples)\n",
    "\n",
    "sanity, conf = update_sanity(sanity, len(added_samples), datasets_bin, conf)\n",
    "sanity[-1]"
   ],
   "metadata": {
    "collapsed": false,
    "pycharm": {
     "name": "#%%\n"
    }
   }
  },
  {
   "cell_type": "markdown",
   "source": [
    "# Step 4: Iterate this algorithm a few times by treating the student as a teacher to relabel the unlabeled data and training a new student"
   ],
   "metadata": {
    "collapsed": false
   }
  },
  {
   "cell_type": "markdown",
   "source": [
    "# Second iteration - Part 1\n",
    "# --- Teacher 2 ---"
   ],
   "metadata": {
    "collapsed": false,
    "pycharm": {
     "name": "#%% md\n"
    }
   }
  },
  {
   "cell_type": "code",
   "execution_count": null,
   "outputs": [],
   "source": [
    "# Make changes\n",
    "iteration += 1\n",
    "dir_name = str(iteration)+\"_teacher\"\n",
    "log_dir = \"./logs/{}/{}\".format(project_time, dir_name)\n",
    "\n",
    "# Dataset\n",
    "conf[\"log_dir\"] = log_dir\n",
    "conf[\"ds_sizes\"][\"train\"] = sanity[1][\"curr_train_size\"]\n",
    "conf[\"aug_mult\"] = 0.2\n",
    "# Model\n",
    "conf[\"model\"] = 'EfficientNetB0'\n",
    "conf[\"dropout\"] = 0.1\n"
   ],
   "metadata": {
    "collapsed": false,
    "pycharm": {
     "name": "#%%\n"
    }
   }
  },
  {
   "cell_type": "code",
   "execution_count": null,
   "outputs": [],
   "source": [
    "ds[\"train\"] = prepare_for_training(\n",
    "        ds=ds[\"combined_train\"],\n",
    "        ds_name='train_'+dir_name,\n",
    "        conf=conf,\n",
    "        cache=True\n",
    "    )"
   ],
   "metadata": {
    "collapsed": false,
    "pycharm": {
     "name": "#%%\n"
    }
   }
  },
  {
   "cell_type": "code",
   "execution_count": null,
   "outputs": [],
   "source": [
    "# create model, callbacks and weights\n",
    "model = create_model(conf)\n",
    "callbacks = create_callbacks(conf)\n",
    "class_weights = get_class_weights(ds[\"train\"], conf)"
   ],
   "metadata": {
    "collapsed": false,
    "pycharm": {
     "name": "#%%\n"
    }
   }
  },
  {
   "cell_type": "code",
   "execution_count": null,
   "outputs": [],
   "source": [
    "start_time = time.time()\n",
    "\n",
    "history = model.fit(\n",
    "    ds[\"train\"],\n",
    "    steps_per_epoch = conf[\"steps\"][\"train\"],\n",
    "    epochs = conf[\"num_epochs\"],\n",
    "    validation_data = ds[\"val\"],\n",
    "    validation_steps = conf[\"steps\"][\"val\"],\n",
    "    validation_freq = 1,\n",
    "    class_weight = class_weights,\n",
    "    callbacks = callbacks\n",
    ")\n",
    "print (\"Time spent on training: {:.2f} minutes.\".format(np.round(time.time() - start_time)/60))"
   ],
   "metadata": {
    "collapsed": false,
    "pycharm": {
     "name": "#%%\n"
    }
   }
  },
  {
   "cell_type": "markdown",
   "source": [
    "# Evaluate the model"
   ],
   "metadata": {
    "collapsed": false,
    "pycharm": {
     "name": "#%% md\n"
    }
   }
  },
  {
   "cell_type": "code",
   "execution_count": null,
   "outputs": [],
   "source": [
    "evaluate_model(model, history, ds, conf)"
   ],
   "metadata": {
    "collapsed": false,
    "pycharm": {
     "name": "#%%\n"
    }
   }
  },
  {
   "cell_type": "code",
   "execution_count": null,
   "outputs": [],
   "source": [
    "count = {\"findings\": 0, \"total\": 0}\n",
    "pseudo = {\"pred_list\": [], \"lab_list\": [], \"name_list\": []}"
   ],
   "metadata": {
    "collapsed": false,
    "pycharm": {
     "name": "#%%\n"
    }
   }
  },
  {
   "cell_type": "code",
   "execution_count": null,
   "outputs": [],
   "source": [
    "pseudo, count = generate_labels(pseudo, count, ds[\"unlab\"], model, conf)"
   ],
   "metadata": {
    "collapsed": false,
    "pycharm": {
     "name": "#%%\n"
    }
   }
  },
  {
   "cell_type": "markdown",
   "source": [
    "## Inspect the classified images"
   ],
   "metadata": {
    "collapsed": false
   }
  },
  {
   "cell_type": "code",
   "execution_count": null,
   "outputs": [],
   "source": [
    "# Sort in order of highest confidence to lowest\n",
    "pseudo_sorted = custom_sort(pseudo)\n",
    "\n",
    "checkout_findings(pseudo_sorted, conf, show=False)"
   ],
   "metadata": {
    "collapsed": false,
    "pycharm": {
     "name": "#%%\n"
    }
   }
  },
  {
   "cell_type": "markdown",
   "source": [
    "## Resample new findings, convert to tf.tensors and concatenate with original training data, and update unlab_ds"
   ],
   "metadata": {
    "collapsed": false,
    "pycharm": {
     "name": "#%% md\n"
    }
   }
  },
  {
   "cell_type": "code",
   "execution_count": null,
   "outputs": [],
   "source": [
    "datasets_bin, added_samples = resample_and_combine(ds, conf, pseudo, pseudo_sorted, datasets_bin, limit=conf[\"class_limit\"])\n",
    "\n",
    "# Update unlab_ds\n",
    "ds[\"unlab\"] = reduce_dataset(ds[\"unlab\"], remove=added_samples)\n",
    "\n",
    "sanity, conf = update_sanity(sanity, len(added_samples), datasets_bin, conf)\n",
    "sanity[-1]"
   ],
   "metadata": {
    "collapsed": false,
    "pycharm": {
     "name": "#%%\n"
    }
   }
  },
  {
   "cell_type": "markdown",
   "source": [
    "# Second Iteration - part 2\n",
    "# -- Student 2 ---"
   ],
   "metadata": {
    "collapsed": false
   }
  },
  {
   "cell_type": "code",
   "execution_count": null,
   "outputs": [],
   "source": [
    "# Make changes\n",
    "dir_name = str(iteration)+\"_student\"\n",
    "log_dir = \"./logs/{}/{}\".format(project_time, dir_name)\n",
    "\n",
    "# Dataset\n",
    "conf[\"log_dir\"] = log_dir\n",
    "conf[\"ds_sizes\"][\"train\"] = sanity[-1][\"curr_train_size\"]\n",
    "conf[\"steps\"][\"train\"] = sanity[-1][\"curr_train_size\"]//conf[\"batch_size\"]\n",
    "conf[\"aug_mult\"] = 0.6\n",
    "# Model\n",
    "conf[\"model\"] = 'EfficientNetB4'\n",
    "conf[\"dropout\"] = 0.2"
   ],
   "metadata": {
    "collapsed": false,
    "pycharm": {
     "name": "#%%\n"
    }
   }
  },
  {
   "cell_type": "code",
   "execution_count": null,
   "outputs": [],
   "source": [
    "ds[\"train\"] = prepare_for_training(\n",
    "        ds=ds[\"combined_train\"],\n",
    "        ds_name='train_'+dir_name,\n",
    "        conf=conf,\n",
    "        cache=True\n",
    "    )"
   ],
   "metadata": {
    "collapsed": false,
    "pycharm": {
     "name": "#%%\n"
    }
   }
  },
  {
   "cell_type": "code",
   "execution_count": null,
   "outputs": [],
   "source": [
    "# create model, callbacks and weights\n",
    "model = create_model(conf)\n",
    "callbacks = create_callbacks(conf)\n",
    "class_weights = get_class_weights(ds[\"train\"], conf)"
   ],
   "metadata": {
    "collapsed": false,
    "pycharm": {
     "name": "#%%\n"
    }
   }
  },
  {
   "cell_type": "code",
   "execution_count": null,
   "outputs": [],
   "source": [
    "start_time = time.time()\n",
    "\n",
    "history = model.fit(\n",
    "    ds[\"train\"],\n",
    "    steps_per_epoch = conf[\"steps\"][\"train\"],\n",
    "    epochs = conf[\"num_epochs\"],\n",
    "    validation_data = ds[\"val\"],\n",
    "    validation_steps = conf[\"steps\"][\"val\"],\n",
    "    validation_freq = 1,\n",
    "    class_weight = class_weights,\n",
    "    callbacks = callbacks\n",
    ")\n",
    "print (\"Time spent on training: {:.2f} minutes.\".format(np.round(time.time() - start_time)/60))"
   ],
   "metadata": {
    "collapsed": false,
    "pycharm": {
     "name": "#%%\n"
    }
   }
  },
  {
   "cell_type": "markdown",
   "source": [
    "## Evaluate the model"
   ],
   "metadata": {
    "collapsed": false
   }
  },
  {
   "cell_type": "code",
   "execution_count": null,
   "outputs": [],
   "source": [
    "evaluate_model(model, history, ds, conf)"
   ],
   "metadata": {
    "collapsed": false,
    "pycharm": {
     "name": "#%%\n"
    }
   }
  },
  {
   "cell_type": "code",
   "execution_count": null,
   "outputs": [],
   "source": [
    "count = {\"findings\": 0, \"total\": 0}\n",
    "pseudo = {\"pred_list\": [], \"lab_list\": [], \"name_list\": []}"
   ],
   "metadata": {
    "collapsed": false,
    "pycharm": {
     "name": "#%%\n"
    }
   }
  },
  {
   "cell_type": "code",
   "execution_count": null,
   "outputs": [],
   "source": [
    "pseudo, count = generate_labels(pseudo, count, ds[\"unlab\"], model, conf)"
   ],
   "metadata": {
    "collapsed": false,
    "pycharm": {
     "name": "#%%\n"
    }
   }
  },
  {
   "cell_type": "markdown",
   "source": [
    "## Inspect the classified images"
   ],
   "metadata": {
    "collapsed": false
   }
  },
  {
   "cell_type": "code",
   "execution_count": null,
   "outputs": [],
   "source": [
    "# Sort in order of highest confidence to lowest\n",
    "pseudo_sorted = custom_sort(pseudo)\n",
    "\n",
    "checkout_findings(pseudo_sorted, conf, show=False)"
   ],
   "metadata": {
    "collapsed": false,
    "pycharm": {
     "name": "#%%\n"
    }
   }
  },
  {
   "cell_type": "markdown",
   "source": [
    "Resample new findings, convert to tf.tensors and concatenate with original training data, and update unlab_ds"
   ],
   "metadata": {
    "collapsed": false,
    "pycharm": {
     "name": "#%% md\n"
    }
   }
  },
  {
   "cell_type": "code",
   "execution_count": null,
   "outputs": [],
   "source": [
    "datasets_bin, added_samples = resample_and_combine(ds, conf, pseudo, pseudo_sorted, datasets_bin, limit=conf[\"class_limit\"])\n",
    "\n",
    "# Update unlab_ds\n",
    "ds[\"unlab\"] = reduce_dataset(ds[\"unlab\"], remove=added_samples)\n",
    "\n",
    "sanity, conf = update_sanity(sanity, len(added_samples), datasets_bin, conf)\n",
    "sanity[-1]"
   ],
   "metadata": {
    "collapsed": false,
    "pycharm": {
     "name": "#%%\n"
    }
   }
  },
  {
   "cell_type": "markdown",
   "source": [
    "# Third iteration - Part 1\n",
    "\n",
    "# --- Teacher 3 ---"
   ],
   "metadata": {
    "collapsed": false
   }
  },
  {
   "cell_type": "code",
   "execution_count": null,
   "outputs": [],
   "source": [
    "# Make changes\n",
    "iteration += 1\n",
    "dir_name = str(iteration)+\"_teacher\"\n",
    "log_dir = \"./logs/{}/{}\".format(project_time, dir_name)\n",
    "\n",
    "# Dataset\n",
    "conf[\"log_dir\"] = log_dir\n",
    "conf[\"ds_sizes\"][\"train\"] = sanity[-1][\"curr_train_size\"]\n",
    "conf[\"steps\"][\"train\"] = sanity[-1][\"curr_train_size\"]//conf[\"batch_size\"]\n",
    "conf[\"aug_mult\"] = 0.2\n",
    "# Model\n",
    "conf[\"model\"] = 'EfficientNetB0'\n",
    "conf[\"dropout\"] = 0.1"
   ],
   "metadata": {
    "collapsed": false,
    "pycharm": {
     "name": "#%%\n"
    }
   }
  },
  {
   "cell_type": "code",
   "execution_count": null,
   "outputs": [],
   "source": [
    "ds[\"train\"] = prepare_for_training(\n",
    "        ds=ds[\"combined_train\"],\n",
    "        ds_name='train_'+dir_name,\n",
    "        conf=conf,\n",
    "        cache=True\n",
    "    )"
   ],
   "metadata": {
    "collapsed": false,
    "pycharm": {
     "name": "#%%\n"
    }
   }
  },
  {
   "cell_type": "code",
   "execution_count": null,
   "outputs": [],
   "source": [
    "# create model, callbacks and weights\n",
    "model = create_model(conf)\n",
    "callbacks = create_callbacks(conf)\n",
    "class_weights = get_class_weights(ds[\"train\"], conf)"
   ],
   "metadata": {
    "collapsed": false,
    "pycharm": {
     "name": "#%%\n"
    }
   }
  },
  {
   "cell_type": "code",
   "execution_count": null,
   "outputs": [],
   "source": [
    "start_time = time.time()\n",
    "\n",
    "history = model.fit(\n",
    "    ds[\"train\"],\n",
    "    steps_per_epoch = conf[\"steps\"][\"train\"],\n",
    "    epochs = conf[\"num_epochs\"],\n",
    "    validation_data = ds[\"val\"],\n",
    "    validation_steps = conf[\"steps\"][\"val\"],\n",
    "    validation_freq = 1,\n",
    "    class_weight = class_weights,\n",
    "    callbacks = callbacks\n",
    ")\n",
    "print (\"Time spent on training: {:.2f} minutes.\".format(np.round(time.time() - start_time)/60))"
   ],
   "metadata": {
    "collapsed": false,
    "pycharm": {
     "name": "#%%\n"
    }
   }
  },
  {
   "cell_type": "markdown",
   "source": [
    "## Evaluate the model"
   ],
   "metadata": {
    "collapsed": false
   }
  },
  {
   "cell_type": "code",
   "execution_count": null,
   "outputs": [],
   "source": [
    "evaluate_model(model, history, ds, conf)"
   ],
   "metadata": {
    "collapsed": false,
    "pycharm": {
     "name": "#%%\n"
    }
   }
  },
  {
   "cell_type": "code",
   "execution_count": null,
   "outputs": [],
   "source": [
    "count = {\"findings\": 0, \"total\": 0}\n",
    "pseudo = {\"pred_list\": [], \"lab_list\": [], \"name_list\": []}"
   ],
   "metadata": {
    "collapsed": false,
    "pycharm": {
     "name": "#%%\n"
    }
   }
  },
  {
   "cell_type": "code",
   "execution_count": null,
   "outputs": [],
   "source": [
    "pseudo, count = generate_labels(pseudo, count, ds[\"unlab\"], model, conf)"
   ],
   "metadata": {
    "collapsed": false,
    "pycharm": {
     "name": "#%%\n"
    }
   }
  },
  {
   "cell_type": "markdown",
   "source": [
    "## Inspect the classified images"
   ],
   "metadata": {
    "collapsed": false,
    "pycharm": {
     "name": "#%% md\n"
    }
   }
  },
  {
   "cell_type": "code",
   "execution_count": null,
   "outputs": [],
   "source": [
    "# Sort in order of highest confidence to lowest\n",
    "pseudo_sorted = custom_sort(pseudo)\n",
    "\n",
    "checkout_findings(pseudo_sorted, conf, show=False)"
   ],
   "metadata": {
    "collapsed": false,
    "pycharm": {
     "name": "#%%\n"
    }
   }
  },
  {
   "cell_type": "markdown",
   "source": [
    "## Resample new findings, convert to tf.tensors and concatenate with original training data, and update unlab_ds"
   ],
   "metadata": {
    "collapsed": false
   }
  },
  {
   "cell_type": "code",
   "execution_count": null,
   "outputs": [],
   "source": [
    "datasets_bin, added_samples = resample_and_combine(ds, conf, pseudo, pseudo_sorted, datasets_bin, limit=conf[\"class_limit\"])\n",
    "\n",
    "# Update unlab_ds\n",
    "ds[\"unlab\"] = reduce_dataset(ds[\"unlab\"], remove=added_samples)\n",
    "\n",
    "sanity, conf = update_sanity(sanity, len(added_samples), datasets_bin, conf)\n",
    "sanity[-1]"
   ],
   "metadata": {
    "collapsed": false,
    "pycharm": {
     "name": "#%%\n"
    }
   }
  },
  {
   "cell_type": "markdown",
   "source": [
    "# Third Iteration - part 2\n",
    "\n",
    "# --- Student 3 ---"
   ],
   "metadata": {
    "collapsed": false
   }
  },
  {
   "cell_type": "code",
   "execution_count": null,
   "outputs": [],
   "source": [
    "# Make changes\n",
    "dir_name = str(iteration)+\"_student\"\n",
    "log_dir = \"./logs/{}/{}\".format(project_time, dir_name)\n",
    "\n",
    "# Dataset\n",
    "conf[\"log_dir\"] = log_dir\n",
    "conf[\"ds_sizes\"][\"train\"] = sanity[-1][\"curr_train_size\"]\n",
    "conf[\"steps\"][\"train\"] = sanity[-1][\"curr_train_size\"]//conf[\"batch_size\"]\n",
    "conf[\"aug_mult\"] = 0.6\n",
    "# Model\n",
    "conf[\"model\"] = 'EfficientNetB4'\n",
    "conf[\"dropout\"] = 0.2"
   ],
   "metadata": {
    "collapsed": false,
    "pycharm": {
     "name": "#%%\n"
    }
   }
  },
  {
   "cell_type": "code",
   "execution_count": null,
   "outputs": [],
   "source": [
    "ds[\"train\"] = prepare_for_training(\n",
    "        ds=ds[\"combined_train\"],\n",
    "        ds_name='train_'+dir_name,\n",
    "        conf=conf,\n",
    "        cache=True\n",
    "    )"
   ],
   "metadata": {
    "collapsed": false,
    "pycharm": {
     "name": "#%%\n"
    }
   }
  },
  {
   "cell_type": "code",
   "execution_count": null,
   "outputs": [],
   "source": [
    "# create model, callbacks and weights\n",
    "model = create_model(conf)\n",
    "callbacks = create_callbacks(conf)\n",
    "class_weights = get_class_weights(ds[\"train\"], conf)"
   ],
   "metadata": {
    "collapsed": false,
    "pycharm": {
     "name": "#%%\n"
    }
   }
  },
  {
   "cell_type": "code",
   "execution_count": null,
   "outputs": [],
   "source": [
    "start_time = time.time()\n",
    "\n",
    "history = model.fit(\n",
    "    ds[\"train\"],\n",
    "    steps_per_epoch = conf[\"steps\"][\"train\"],\n",
    "    epochs = conf[\"num_epochs\"],\n",
    "    validation_data = ds[\"val\"],\n",
    "    validation_steps = conf[\"steps\"][\"val\"],\n",
    "    validation_freq = 1,\n",
    "    class_weight = class_weights,\n",
    "    callbacks = callbacks\n",
    ")\n",
    "print (\"Time spent on training: {:.2f} minutes.\".format(np.round(time.time() - start_time)/60))"
   ],
   "metadata": {
    "collapsed": false,
    "pycharm": {
     "name": "#%%\n"
    }
   }
  },
  {
   "cell_type": "markdown",
   "source": [
    "## Evaluate the model"
   ],
   "metadata": {
    "collapsed": false
   }
  },
  {
   "cell_type": "code",
   "execution_count": null,
   "outputs": [],
   "source": [
    "evaluate_model(model, history, ds, conf)"
   ],
   "metadata": {
    "collapsed": false,
    "pycharm": {
     "name": "#%%\n"
    }
   }
  },
  {
   "cell_type": "code",
   "execution_count": null,
   "outputs": [],
   "source": [
    "count = {\"findings\": 0, \"total\": 0}\n",
    "pseudo = {\"pred_list\": [], \"lab_list\": [], \"name_list\": []}"
   ],
   "metadata": {
    "collapsed": false,
    "pycharm": {
     "name": "#%%\n"
    }
   }
  },
  {
   "cell_type": "code",
   "execution_count": null,
   "outputs": [],
   "source": [
    "pseudo, count = generate_labels(pseudo, count, ds[\"unlab\"], model, conf)"
   ],
   "metadata": {
    "collapsed": false,
    "pycharm": {
     "name": "#%%\n"
    }
   }
  },
  {
   "cell_type": "markdown",
   "source": [
    "### Inspect the classified images"
   ],
   "metadata": {
    "collapsed": false,
    "pycharm": {
     "name": "#%% md\n"
    }
   }
  },
  {
   "cell_type": "code",
   "execution_count": null,
   "outputs": [],
   "source": [
    "# Sort in order of highest confidence to lowest\n",
    "pseudo_sorted = custom_sort(pseudo)\n",
    "\n",
    "checkout_findings(pseudo_sorted, conf, show=False)\n"
   ],
   "metadata": {
    "collapsed": false,
    "pycharm": {
     "name": "#%%\n"
    }
   }
  },
  {
   "cell_type": "markdown",
   "source": [
    "### Resample new findings, convert to tf.tensors and concatenate with original training data, and update unlab_ds"
   ],
   "metadata": {
    "collapsed": false,
    "pycharm": {
     "name": "#%% md\n"
    }
   }
  },
  {
   "cell_type": "code",
   "execution_count": null,
   "outputs": [],
   "source": [
    "datasets_bin, added_samples = resample_and_combine(ds, conf, pseudo, pseudo_sorted, datasets_bin, limit=conf[\"class_limit\"])\n",
    "\n",
    "# Update unlab_ds\n",
    "ds[\"unlab\"] = reduce_dataset(ds[\"unlab\"], remove=added_samples)\n",
    "\n",
    "sanity, conf = update_sanity(sanity, len(added_samples), datasets_bin, conf)\n",
    "sanity[-1]"
   ],
   "metadata": {
    "collapsed": false,
    "pycharm": {
     "name": "#%%\n"
    }
   }
  },
  {
   "cell_type": "markdown",
   "source": [
    "# 4th iteration - Part 1\n",
    "\n",
    "# --- Teacher 4 ---"
   ],
   "metadata": {
    "collapsed": false,
    "pycharm": {
     "name": "#%% md\n"
    }
   }
  },
  {
   "cell_type": "code",
   "execution_count": null,
   "outputs": [],
   "source": [
    "# Make changes\n",
    "iteration += 1\n",
    "dir_name = str(iteration)+\"_teacher\"\n",
    "log_dir = \"./logs/{}/{}\".format(project_time, dir_name)\n",
    "\n",
    "# Dataset\n",
    "conf[\"log_dir\"] = log_dir\n",
    "conf[\"ds_sizes\"][\"train\"] = sanity[-1][\"curr_train_size\"]\n",
    "conf[\"steps\"][\"train\"] = sanity[-1][\"curr_train_size\"]//conf[\"batch_size\"]\n",
    "conf[\"aug_mult\"] = 0.2\n",
    "# Model\n",
    "conf[\"model\"] = 'EfficientNetB0'\n",
    "conf[\"dropout\"] = 0.1\n",
    "\n",
    "conf[\"class_limit\"] = 2500"
   ],
   "metadata": {
    "collapsed": false,
    "pycharm": {
     "name": "#%%\n"
    }
   }
  },
  {
   "cell_type": "code",
   "execution_count": null,
   "outputs": [],
   "source": [
    "ds[\"train\"] = prepare_for_training(\n",
    "        ds=ds[\"combined_train\"],\n",
    "        ds_name='train_'+dir_name,\n",
    "        conf=conf,\n",
    "        cache=True\n",
    "    )"
   ],
   "metadata": {
    "collapsed": false,
    "pycharm": {
     "name": "#%%\n"
    }
   }
  },
  {
   "cell_type": "code",
   "execution_count": null,
   "outputs": [],
   "source": [
    "# create model, callbacks and weights\n",
    "model = create_model(conf)\n",
    "callbacks = create_callbacks(conf)\n",
    "class_weights = get_class_weights(ds[\"train\"], conf)"
   ],
   "metadata": {
    "collapsed": false,
    "pycharm": {
     "name": "#%%\n"
    }
   }
  },
  {
   "cell_type": "code",
   "execution_count": null,
   "outputs": [],
   "source": [
    "start_time = time.time()\n",
    "\n",
    "history = model.fit(\n",
    "    ds[\"train\"],\n",
    "    steps_per_epoch = conf[\"steps\"][\"train\"],\n",
    "    epochs = conf[\"num_epochs\"],\n",
    "    validation_data = ds[\"val\"],\n",
    "    validation_steps = conf[\"steps\"][\"val\"],\n",
    "    validation_freq = 1,\n",
    "    class_weight = class_weights,\n",
    "    callbacks = callbacks\n",
    ")\n",
    "print (\"Time spent on training: {:.2f} minutes.\".format(np.round(time.time() - start_time)/60))"
   ],
   "metadata": {
    "collapsed": false,
    "pycharm": {
     "name": "#%%\n"
    }
   }
  },
  {
   "cell_type": "markdown",
   "source": [
    "## Evaluate the model"
   ],
   "metadata": {
    "collapsed": false,
    "pycharm": {
     "name": "#%% md\n"
    }
   }
  },
  {
   "cell_type": "code",
   "execution_count": null,
   "outputs": [],
   "source": [
    "evaluate_model(model, history, ds, conf)"
   ],
   "metadata": {
    "collapsed": false,
    "pycharm": {
     "name": "#%%\n"
    }
   }
  },
  {
   "cell_type": "code",
   "execution_count": null,
   "outputs": [],
   "source": [
    "count = {\"findings\": 0, \"total\": 0}\n",
    "pseudo = {\"pred_list\": [], \"lab_list\": [], \"name_list\": []}"
   ],
   "metadata": {
    "collapsed": false,
    "pycharm": {
     "name": "#%%\n"
    }
   }
  },
  {
   "cell_type": "code",
   "execution_count": null,
   "outputs": [],
   "source": [
    "pseudo, count = generate_labels(pseudo, count, ds[\"unlab\"], model, conf)"
   ],
   "metadata": {
    "collapsed": false,
    "pycharm": {
     "name": "#%%\n"
    }
   }
  },
  {
   "cell_type": "markdown",
   "source": [
    "### Inspect the classified images"
   ],
   "metadata": {
    "collapsed": false,
    "pycharm": {
     "name": "#%% md\n"
    }
   }
  },
  {
   "cell_type": "code",
   "execution_count": null,
   "outputs": [],
   "source": [
    "# Sort in order of highest confidence to lowest\n",
    "pseudo_sorted = custom_sort(pseudo)\n",
    "\n",
    "checkout_findings(pseudo_sorted, conf, show=False)\n"
   ],
   "metadata": {
    "collapsed": false,
    "pycharm": {
     "name": "#%%\n"
    }
   }
  },
  {
   "cell_type": "markdown",
   "source": [
    "## Resample new findings, convert to tf.tensors and concatenate with original training data, and update unlab_ds"
   ],
   "metadata": {
    "collapsed": false,
    "pycharm": {
     "name": "#%% md\n"
    }
   }
  },
  {
   "cell_type": "code",
   "execution_count": null,
   "outputs": [],
   "source": [
    "datasets_bin, added_samples = resample_and_combine(ds, conf, pseudo, pseudo_sorted, datasets_bin, limit=conf[\"class_limit\"])\n",
    "\n",
    "# Update unlab_ds\n",
    "ds[\"unlab\"] = reduce_dataset(ds[\"unlab\"], remove=added_samples)\n",
    "\n",
    "sanity, conf = update_sanity(sanity, len(added_samples), datasets_bin, conf)\n",
    "sanity[-1]"
   ],
   "metadata": {
    "collapsed": false,
    "pycharm": {
     "name": "#%%\n"
    }
   }
  },
  {
   "cell_type": "markdown",
   "source": [
    "# 4th Iteration - part 2\n",
    "\n",
    "# --- Student 4 ---"
   ],
   "metadata": {
    "collapsed": false,
    "pycharm": {
     "name": "#%% md\n"
    }
   }
  },
  {
   "cell_type": "code",
   "execution_count": null,
   "outputs": [],
   "source": [
    "# Make changes\n",
    "dir_name = str(iteration)+\"_student\"\n",
    "log_dir = \"./logs/{}/{}\".format(project_time, dir_name)\n",
    "\n",
    "# Dataset\n",
    "conf[\"log_dir\"] = log_dir\n",
    "conf[\"ds_sizes\"][\"train\"] = sanity[-1][\"curr_train_size\"]\n",
    "conf[\"steps\"][\"train\"] = sanity[-1][\"curr_train_size\"]//conf[\"batch_size\"]\n",
    "conf[\"aug_mult\"] = 0.6\n",
    "# Model\n",
    "conf[\"model\"] = 'EfficientNetB4'\n",
    "conf[\"dropout\"] = 0.2"
   ],
   "metadata": {
    "collapsed": false,
    "pycharm": {
     "name": "#%%\n"
    }
   }
  },
  {
   "cell_type": "code",
   "execution_count": null,
   "outputs": [],
   "source": [
    "ds[\"train\"] = prepare_for_training(\n",
    "        ds=ds[\"combined_train\"],\n",
    "        ds_name='train_'+dir_name,\n",
    "        conf=conf,\n",
    "        cache=True\n",
    "    )"
   ],
   "metadata": {
    "collapsed": false,
    "pycharm": {
     "name": "#%%\n"
    }
   }
  },
  {
   "cell_type": "code",
   "execution_count": null,
   "outputs": [],
   "source": [
    "# create model, callbacks and weights\n",
    "model = create_model(conf)\n",
    "callbacks = create_callbacks(conf)\n",
    "class_weights = get_class_weights(ds[\"train\"], conf)"
   ],
   "metadata": {
    "collapsed": false,
    "pycharm": {
     "name": "#%%\n"
    }
   }
  },
  {
   "cell_type": "code",
   "execution_count": null,
   "outputs": [],
   "source": [
    "start_time = time.time()\n",
    "\n",
    "history = model.fit(\n",
    "    ds[\"train\"],\n",
    "    steps_per_epoch = conf[\"steps\"][\"train\"],\n",
    "    epochs = conf[\"num_epochs\"],\n",
    "    validation_data = ds[\"val\"],\n",
    "    validation_steps = conf[\"steps\"][\"val\"],\n",
    "    validation_freq = 1,\n",
    "    class_weight = class_weights,\n",
    "    callbacks = callbacks\n",
    ")\n",
    "print (\"Time spent on training: {:.2f} minutes.\".format(np.round(time.time() - start_time)/60))"
   ],
   "metadata": {
    "collapsed": false,
    "pycharm": {
     "name": "#%%\n"
    }
   }
  },
  {
   "cell_type": "markdown",
   "source": [
    "## Evaluate the model"
   ],
   "metadata": {
    "collapsed": false
   }
  },
  {
   "cell_type": "code",
   "execution_count": null,
   "outputs": [],
   "source": [
    "evaluate_model(model, history, ds, conf)"
   ],
   "metadata": {
    "collapsed": false,
    "pycharm": {
     "name": "#%%\n"
    }
   }
  },
  {
   "cell_type": "code",
   "execution_count": null,
   "outputs": [],
   "source": [
    "count = {\"findings\": 0, \"total\": 0}\n",
    "pseudo = {\"pred_list\": [], \"lab_list\": [], \"name_list\": []}"
   ],
   "metadata": {
    "collapsed": false,
    "pycharm": {
     "name": "#%%\n"
    }
   }
  },
  {
   "cell_type": "code",
   "execution_count": null,
   "outputs": [],
   "source": [
    "pseudo, count = generate_labels(pseudo, count, ds[\"unlab\"], model, conf)"
   ],
   "metadata": {
    "collapsed": false,
    "pycharm": {
     "name": "#%%\n"
    }
   }
  },
  {
   "cell_type": "markdown",
   "source": [
    "### Inspect the classified images"
   ],
   "metadata": {
    "collapsed": false,
    "pycharm": {
     "name": "#%% md\n"
    }
   }
  },
  {
   "cell_type": "code",
   "execution_count": null,
   "outputs": [],
   "source": [
    "# Sort in order of highest confidence to lowest\n",
    "pseudo_sorted = custom_sort(pseudo)\n",
    "\n",
    "checkout_findings(pseudo_sorted, conf, show=False)\n"
   ],
   "metadata": {
    "collapsed": false,
    "pycharm": {
     "name": "#%%\n"
    }
   }
  },
  {
   "cell_type": "markdown",
   "source": [
    "### Resample new findings, convert to tf.tensors and concatenate with original training data, and update unlab_ds"
   ],
   "metadata": {
    "collapsed": false,
    "pycharm": {
     "name": "#%% md\n"
    }
   }
  },
  {
   "cell_type": "code",
   "execution_count": null,
   "outputs": [],
   "source": [
    "datasets_bin, added_samples = resample_and_combine(ds, conf, pseudo, pseudo_sorted, datasets_bin, limit=conf[\"class_limit\"])\n",
    "\n",
    "# Update unlab_ds\n",
    "ds[\"unlab\"] = reduce_dataset(ds[\"unlab\"], remove=added_samples)\n",
    "\n",
    "sanity, conf = update_sanity(sanity, len(added_samples), datasets_bin, conf)\n",
    "sanity[-1]"
   ],
   "metadata": {
    "collapsed": false,
    "pycharm": {
     "name": "#%%\n"
    }
   }
  }
 ],
 "metadata": {
  "kernelspec": {
   "display_name": "Python 3",
   "language": "python",
   "name": "python3"
  },
  "language_info": {
   "codemirror_mode": {
    "name": "ipython",
    "version": 2
   },
   "file_extension": ".py",
   "mimetype": "text/x-python",
   "name": "python",
   "nbconvert_exporter": "python",
   "pygments_lexer": "ipython2",
   "version": "2.7.6"
  }
 },
 "nbformat": 4,
 "nbformat_minor": 0
}